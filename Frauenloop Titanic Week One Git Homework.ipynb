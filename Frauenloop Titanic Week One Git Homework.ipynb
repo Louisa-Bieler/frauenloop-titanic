{
 "cells": [
  {
   "cell_type": "markdown",
   "id": "14319af4",
   "metadata": {},
   "source": [
    "### Titanic Dataset"
   ]
  },
  {
   "cell_type": "code",
   "execution_count": 3,
   "id": "1c1dc0a0",
   "metadata": {},
   "outputs": [
    {
     "ename": "SyntaxError",
     "evalue": "invalid syntax (ML_part2.py, line 7)",
     "output_type": "error",
     "traceback": [
      "Traceback \u001b[0;36m(most recent call last)\u001b[0m:\n",
      "  File \u001b[1;32m\"/home/bernaoney/anaconda3/lib/python3.9/site-packages/IPython/core/interactiveshell.py\"\u001b[0m, line \u001b[1;32m3444\u001b[0m, in \u001b[1;35mrun_code\u001b[0m\n    exec(code_obj, self.user_global_ns, self.user_ns)\n",
      "\u001b[0;36m  File \u001b[0;32m\"/tmp/ipykernel_5090/4065755479.py\"\u001b[0;36m, line \u001b[0;32m24\u001b[0;36m, in \u001b[0;35m<module>\u001b[0;36m\u001b[0m\n\u001b[0;31m    from ML_analysis import ML_part2 as ML\u001b[0m\n",
      "\u001b[0;36m  File \u001b[0;32m\"/media/bernaoney/UbuntuBU/FrauenLoop_titanic/frauenloop-titanic/ML_analysis/ML_part2.py\"\u001b[0;36m, line \u001b[0;32m7\u001b[0m\n\u001b[0;31m    def train_test_split(df,size)\u001b[0m\n\u001b[0m                                 ^\u001b[0m\n\u001b[0;31mSyntaxError\u001b[0m\u001b[0;31m:\u001b[0m invalid syntax\n"
     ]
    }
   ],
   "source": [
    "import pandas as pd\n",
    "import numpy as np\n",
    "import matplotlib.pyplot as plt\n",
    "import matplotlib_inline\n",
    "import seaborn as sns\n",
    "# set the color palette\n",
    "sns.set_palette(sns.color_palette(\"husl\"))\n",
    "from sklearn.tree import DecisionTreeClassifier, export_graphviz\n",
    "import sklearn\n",
    "import load_transform as lt\n",
    "from feature_exploration import feature_exploration as fe\n",
    "from feature_exploration import tree\n",
    "%reload_ext autoreload\n",
    "%autoreload 2\n",
    "# Algorithms\n",
    "from sklearn.linear_model import LogisticRegression\n",
    "from sklearn.ensemble import RandomForestClassifier\n",
    "from sklearn.linear_model import SGDClassifier\n",
    "from sklearn.neighbors import KNeighborsClassifier\n",
    "from sklearn.metrics import classification_report, confusion_matrix\n",
    "from sklearn.model_selection import train_test_split\n",
    "from sklearn.model_selection import cross_val_score, GridSearchCV\n",
    "from sklearn.model_selection import train_test_split\n",
    "from ML_analysis import ML_part2 as ML"
   ]
  },
  {
   "cell_type": "code",
   "execution_count": null,
   "id": "64cf6655",
   "metadata": {},
   "outputs": [],
   "source": [
    "df = lt.load_explore('train.csv')"
   ]
  },
  {
   "cell_type": "code",
   "execution_count": null,
   "id": "dfd31c00",
   "metadata": {},
   "outputs": [],
   "source": [
    "df['GenderBoolean'] = df['Sex'].apply(lt.gender_boolean)"
   ]
  },
  {
   "cell_type": "code",
   "execution_count": null,
   "id": "72fa2f95-065c-4078-8143-19896e45dded",
   "metadata": {},
   "outputs": [],
   "source": [
    "fe.show_feature_hist(df)"
   ]
  },
  {
   "cell_type": "code",
   "execution_count": null,
   "id": "34211df8-d14b-4867-a04a-334b25cea12a",
   "metadata": {},
   "outputs": [],
   "source": [
    "fe.plot_survived(df, df['Survived'])"
   ]
  },
  {
   "cell_type": "code",
   "execution_count": null,
   "id": "5cac3a01-b7e3-4ed3-b56f-99748e7ebe7c",
   "metadata": {},
   "outputs": [],
   "source": [
    "fe.plot_survived_vs_sib_spouse(df, df['Survived'], df['SibSp'])"
   ]
  },
  {
   "cell_type": "code",
   "execution_count": null,
   "id": "c8a05996-b5bd-4a48-b637-d2ebd2477a43",
   "metadata": {},
   "outputs": [],
   "source": [
    "corr=fe.get_correlation(df, 'Survived')\n",
    "corr"
   ]
  },
  {
   "cell_type": "code",
   "execution_count": null,
   "id": "26000dfa-74e5-4cc7-8903-b774538348a2",
   "metadata": {},
   "outputs": [],
   "source": [
    "one_hot_array = fe.get_1hot_array(df[['Embarked']])\n",
    "one_hot_array"
   ]
  },
  {
   "cell_type": "code",
   "execution_count": null,
   "id": "96588e6b",
   "metadata": {},
   "outputs": [],
   "source": [
    "clean_df = lt.create_clean_df(df, ['Survived', 'Pclass', 'Age', 'SibSp', 'GenderBoolean'])\n",
    "clean_df"
   ]
  },
  {
   "cell_type": "code",
   "execution_count": null,
   "id": "9644d331",
   "metadata": {},
   "outputs": [],
   "source": [
    "tree.model_decision_tree(clean_df)"
   ]
  },
  {
   "cell_type": "code",
   "execution_count": null,
   "id": "375cf77f-131d-4edb-a602-fffbf5190aef",
   "metadata": {},
   "outputs": [],
   "source": []
  }
 ],
 "metadata": {
  "kernelspec": {
   "display_name": "Python 3 (ipykernel)",
   "language": "python",
   "name": "python3"
  },
  "language_info": {
   "codemirror_mode": {
    "name": "ipython",
    "version": 3
   },
   "file_extension": ".py",
   "mimetype": "text/x-python",
   "name": "python",
   "nbconvert_exporter": "python",
   "pygments_lexer": "ipython3",
   "version": "3.9.7"
  }
 },
 "nbformat": 4,
 "nbformat_minor": 5
}
