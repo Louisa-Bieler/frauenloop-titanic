{
 "cells": [
  {
   "cell_type": "markdown",
   "id": "14319af4",
   "metadata": {},
   "source": [
    "### Titanic Dataset"
   ]
  },
  {
   "cell_type": "code",
   "execution_count": null,
   "id": "1c1dc0a0",
   "metadata": {},
   "outputs": [],
   "source": [
    "import pandas as pd\n",
    "import numpy as np\n",
    "import matplotlib.pyplot as plt\n",
    "import matplotlib_inline\n",
    "import seaborn as sns\n",
    "# set the color palette\n",
    "sns.set_palette(sns.color_palette(\"husl\"))\n",
    "from sklearn.tree import DecisionTreeClassifier, export_graphviz\n",
    "import sklearn\n",
    "import load_transform.py"
   ]
  },
  {
   "cell_type": "code",
   "execution_count": null,
   "id": "64cf6655",
   "metadata": {},
   "outputs": [],
   "source": [
    "df = load_explore('train.csv')"
   ]
  },
  {
   "cell_type": "code",
   "execution_count": null,
   "id": "dfd31c00",
   "metadata": {},
   "outputs": [],
   "source": [
    "df['GenderBoolean'] = df['Sex'].apply(gender_boolean)"
   ]
  },
  {
   "cell_type": "code",
   "execution_count": null,
   "id": "96588e6b",
   "metadata": {},
   "outputs": [],
   "source": [
    "clean_df = create_clean_df(df, ['Survived', 'Pclass', 'Age', 'SibSp', 'GenderBoolean'])"
   ]
  },
  {
   "cell_type": "code",
   "execution_count": null,
   "id": "9644d331",
   "metadata": {},
   "outputs": [],
   "source": []
  },
  {
   "cell_type": "code",
   "execution_count": null,
   "id": "6076faef",
   "metadata": {},
   "outputs": [],
   "source": []
  },
  {
   "cell_type": "code",
   "execution_count": null,
   "id": "f605d41d",
   "metadata": {},
   "outputs": [],
   "source": []
  },
  {
   "cell_type": "code",
   "execution_count": null,
   "id": "a4f3afe9",
   "metadata": {},
   "outputs": [],
   "source": []
  },
  {
   "cell_type": "code",
   "execution_count": null,
   "id": "bf0adffc",
   "metadata": {},
   "outputs": [],
   "source": []
  },
  {
   "cell_type": "code",
   "execution_count": null,
   "id": "98fdc0de",
   "metadata": {},
   "outputs": [],
   "source": []
  }
 ],
 "metadata": {
  "kernelspec": {
   "display_name": "Python 3 (ipykernel)",
   "language": "python",
   "name": "python3"
  },
  "language_info": {
   "codemirror_mode": {
    "name": "ipython",
    "version": 3
   },
   "file_extension": ".py",
   "mimetype": "text/x-python",
   "name": "python",
   "nbconvert_exporter": "python",
   "pygments_lexer": "ipython3",
   "version": "3.10.1"
  }
 },
 "nbformat": 4,
 "nbformat_minor": 5
}
