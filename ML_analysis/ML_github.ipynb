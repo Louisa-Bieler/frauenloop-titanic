{
 "cells": [
  {
   "cell_type": "code",
   "execution_count": 1,
   "id": "cd0f633d-5ce3-43bb-a1f4-a288bc1029ed",
   "metadata": {},
   "outputs": [],
   "source": [
    "### Import packages\n",
    "# linear algebra\n",
    "import numpy as np \n",
    "# data processing\n",
    "import pandas as pd \n",
    "from sklearn.impute import SimpleImputer\n",
    "# data visualization\n",
    "import seaborn as sns\n",
    "%matplotlib inline\n",
    "from matplotlib import pyplot as plt\n",
    "from matplotlib import style\n",
    "# Algorithms\n",
    "from sklearn.linear_model import LogisticRegression\n",
    "from sklearn.ensemble import RandomForestClassifier\n",
    "from sklearn.linear_model import SGDClassifier\n",
    "from sklearn.neighbors import KNeighborsClassifier\n",
    "from sklearn.metrics import classification_report, confusion_matrix\n",
    "from sklearn.model_selection import train_test_split\n",
    "from sklearn.model_selection import cross_val_score, GridSearchCV"
   ]
  },
  {
   "cell_type": "code",
   "execution_count": 2,
   "id": "a9f440de-6500-4d73-a63a-5761725da679",
   "metadata": {},
   "outputs": [
    {
     "name": "stdout",
     "output_type": "stream",
     "text": [
      "<class 'pandas.core.frame.DataFrame'>\n",
      "RangeIndex: 891 entries, 0 to 890\n",
      "Data columns (total 10 columns):\n",
      " #   Column      Non-Null Count  Dtype  \n",
      "---  ------      --------------  -----  \n",
      " 0   Survived    891 non-null    int64  \n",
      " 1   Pclass      891 non-null    int64  \n",
      " 2   Age         891 non-null    float64\n",
      " 3   SibSp       891 non-null    int64  \n",
      " 4   Parch       891 non-null    int64  \n",
      " 5   Fare        891 non-null    float64\n",
      " 6   not_alone   891 non-null    int64  \n",
      " 7   Sex_female  891 non-null    int64  \n",
      " 8   Embarked_Q  891 non-null    int64  \n",
      " 9   Embarked_S  891 non-null    int64  \n",
      "dtypes: float64(2), int64(8)\n",
      "memory usage: 69.7 KB\n"
     ]
    }
   ],
   "source": [
    "df=pd.read_csv(\"train_df.csv\")\n",
    "df.info()"
   ]
  },
  {
   "cell_type": "code",
   "execution_count": 3,
   "id": "9073522a-fab6-437a-b9bd-5861734660bb",
   "metadata": {},
   "outputs": [
    {
     "data": {
      "text/plain": [
       "((623, 9), (268, 9))"
      ]
     },
     "execution_count": 3,
     "metadata": {},
     "output_type": "execute_result"
    }
   ],
   "source": [
    "### Split the data - By default, train test split splits the data into 75% training data and 25% test data, which is a good rule of thumb (##or test_size= )\n",
    "# features\n",
    "from sklearn.model_selection import train_test_split\n",
    "def split_set(df, size):\n",
    "    \"\"\"\n",
    "    df: Dataframe to split\n",
    "    size: proportion to data to allocate to validation set (same as train_test_split's test_size)\n",
    "    \"\"\"\n",
    "    return train_test_split(df[['Pclass', 'Age', 'SibSp', 'Parch', 'Fare', 'not_alone','Sex_female','Embarked_Q','Embarked_S']], df['Survived'], test_size=size)\n",
    "\n",
    "X_train, X_test, y_train, y_test = split_set(df,.3)\n",
    "X_train.shape, X_test.shape"
   ]
  },
  {
   "cell_type": "code",
   "execution_count": 4,
   "id": "fd355e16-8622-44a5-b8df-c80d3b498fb7",
   "metadata": {},
   "outputs": [],
   "source": [
    "def predict_kNN(dataset, min_neighbors= 1, max_neighbors = 15, cross_val_folds=5):\n",
    "    \"\"\"\n",
    "    k-NN algoritm and finding the best parameters for it\n",
    "    \"\"\"\n",
    "    param_grid = {'n_neighbors': np.arange(min_neighbors, max_neighbors)}\n",
    "    knn = KNeighborsClassifier()\n",
    "    knn_cv = GridSearchCV(knn, param_grid, cv=cross_val_folds)\n",
    "    knn_cv.fit(X_train, y_train)\n",
    "    y_pred = knn_cv.predict(X_test)\n",
    "    print(knn_cv.best_params_)\n",
    "    print(knn_cv.best_score_)\n",
    "    print(classification_report(y_test,y_pred))\n",
    "    knn_classreport= classification_report(y_test,y_pred)\n",
    "    return knn_classreport"
   ]
  },
  {
   "cell_type": "code",
   "execution_count": 7,
   "id": "e7525b29-3c23-413b-90ec-23e4c40b7080",
   "metadata": {},
   "outputs": [
    {
     "name": "stdout",
     "output_type": "stream",
     "text": [
      "{'n_neighbors': 5}\n",
      "0.6854838709677419\n",
      "              precision    recall  f1-score   support\n",
      "\n",
      "           0       0.79      0.78      0.78       169\n",
      "           1       0.63      0.66      0.64        99\n",
      "\n",
      "    accuracy                           0.73       268\n",
      "   macro avg       0.71      0.72      0.71       268\n",
      "weighted avg       0.73      0.73      0.73       268\n",
      "\n"
     ]
    },
    {
     "data": {
      "text/plain": [
       "'              precision    recall  f1-score   support\\n\\n           0       0.79      0.78      0.78       169\\n           1       0.63      0.66      0.64        99\\n\\n    accuracy                           0.73       268\\n   macro avg       0.71      0.72      0.71       268\\nweighted avg       0.73      0.73      0.73       268\\n'"
      ]
     },
     "execution_count": 7,
     "metadata": {},
     "output_type": "execute_result"
    }
   ],
   "source": [
    "predict_kNN(df, 1, 15, 5)"
   ]
  },
  {
   "cell_type": "code",
   "execution_count": 9,
   "id": "330eaa86-f404-4248-878e-20a35b8b2039",
   "metadata": {},
   "outputs": [],
   "source": [
    "def predict_logreg(dataset):\n",
    "    \"\"\"Logistic Regression algorithm\"\"\"\n",
    "    logreg=LogisticRegression()\n",
    "    logreg.fit(X_train, y_train)\n",
    "    y_pred=logreg.predict(X_test)\n",
    "    print(classification_report(y_test,y_pred))\n",
    "    logreg_classresport=classification_report(y_test,y_pred)\n",
    "    return log_classreport"
   ]
  },
  {
   "cell_type": "code",
   "execution_count": null,
   "id": "9ac48b14-a306-4548-a9c2-affaa796ad4b",
   "metadata": {},
   "outputs": [],
   "source": [
    "predict_logreg(df)"
   ]
  },
  {
   "cell_type": "code",
   "execution_count": 13,
   "id": "f38981d8-6715-4d73-a04d-14c40325b0b4",
   "metadata": {},
   "outputs": [],
   "source": [
    "### RANDOM FOREST - GridSearch\n",
    "def predict_RF(dataset):\n",
    "    \"\"\"Random Forest  - finding the best hyperparameters\"\"\"\n",
    "    rf=RandomForestClassifier()\n",
    "    params_rf={'criterion':['gini','entropy'],'n_estimators':[100,200], 'max_depth':[3,4,5], 'min_samples_leaf':[1,2,3,5],'min_samples_split':[2,3,4,5], 'max_features':['auto','log2']}\n",
    "    grid_rf=GridSearchCV(estimator=rf, param_grid=params_rf,cv=10, n_jobs=-1)\n",
    "    grid_rf.fit(X_train, y_train)\n",
    "    best_hyper_rf=grid_rf.best_params_\n",
    "    print('Best hyperparameters\\n', best_hyper_rf)\n",
    "    print('Best Score: %s' % grid_rf.best_score_)\n",
    "    return best_hyper_rf"
   ]
  },
  {
   "cell_type": "code",
   "execution_count": 14,
   "id": "d1030d8d-0e21-4aac-9854-43d5c41ec2e3",
   "metadata": {},
   "outputs": [
    {
     "name": "stdout",
     "output_type": "stream",
     "text": [
      "Best hyperparameters\n",
      " {'criterion': 'entropy', 'max_depth': 3, 'max_features': 'auto', 'min_samples_leaf': 3, 'min_samples_split': 5, 'n_estimators': 100}\n",
      "Best Score: 0.8329493087557603\n"
     ]
    },
    {
     "data": {
      "text/plain": [
       "{'criterion': 'entropy',\n",
       " 'max_depth': 3,\n",
       " 'max_features': 'auto',\n",
       " 'min_samples_leaf': 3,\n",
       " 'min_samples_split': 5,\n",
       " 'n_estimators': 100}"
      ]
     },
     "execution_count": 14,
     "metadata": {},
     "output_type": "execute_result"
    }
   ],
   "source": [
    "predict_RF(df)"
   ]
  },
  {
   "cell_type": "code",
   "execution_count": 16,
   "id": "e9563606-9f72-4d35-9baa-dad155369041",
   "metadata": {},
   "outputs": [],
   "source": [
    "### RandomForest-Bestmodel\n",
    "def bestRF(dataset):\n",
    "    \"\"\"Running Random Forest algorithm with the best hyperparameters\"\"\"\n",
    "    rf_bestmodel=RandomForestClassifier(criterion='entropy', max_depth=3, max_features='auto', min_samples_leaf=3, min_samples_split=5, n_estimators=100, class_weight='balanced')\n",
    "    rf_bestmodel.fit(X_train,y_train)\n",
    "    y_bestpred=rf_bestmodel.predict(X_test)\n",
    "    rf_classreport=classification_report(y_test,y_bestpred)\n",
    "    return rf_classreport"
   ]
  },
  {
   "cell_type": "code",
   "execution_count": 18,
   "id": "24ca16f5-ac1c-47a1-9bc4-d98c50a122c2",
   "metadata": {},
   "outputs": [
    {
     "name": "stdout",
     "output_type": "stream",
     "text": [
      "              precision    recall  f1-score   support\n",
      "\n",
      "           0       0.83      0.81      0.82       169\n",
      "           1       0.69      0.72      0.70        99\n",
      "\n",
      "    accuracy                           0.78       268\n",
      "   macro avg       0.76      0.76      0.76       268\n",
      "weighted avg       0.78      0.78      0.78       268\n",
      "\n"
     ]
    }
   ],
   "source": [
    "print(bestRF(df))"
   ]
  }
 ],
 "metadata": {
  "kernelspec": {
   "display_name": "Python 3 (ipykernel)",
   "language": "python",
   "name": "python3"
  },
  "language_info": {
   "codemirror_mode": {
    "name": "ipython",
    "version": 3
   },
   "file_extension": ".py",
   "mimetype": "text/x-python",
   "name": "python",
   "nbconvert_exporter": "python",
   "pygments_lexer": "ipython3",
   "version": "3.9.7"
  }
 },
 "nbformat": 4,
 "nbformat_minor": 5
}
